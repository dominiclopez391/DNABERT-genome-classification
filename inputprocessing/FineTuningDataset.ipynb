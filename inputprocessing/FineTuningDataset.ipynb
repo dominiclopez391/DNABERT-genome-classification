{
 "cells": [
  {
   "cell_type": "code",
   "execution_count": 20,
   "id": "e47f7fed",
   "metadata": {},
   "outputs": [],
   "source": [
    "from Bio import SeqIO\n",
    "from tqdm import tqdm\n",
    "import os, random\n",
    "import pandas as pd"
   ]
  },
  {
   "cell_type": "code",
   "execution_count": 21,
   "id": "3a71b25d",
   "metadata": {},
   "outputs": [],
   "source": [
    "KMER_LENGTH = 6\n",
    "MAX_KMER_INPUT_LENGTH = 512\n",
    "\n",
    "\n",
    "random.seed(1000)"
   ]
  },
  {
   "cell_type": "code",
   "execution_count": 16,
   "id": "9649a58a",
   "metadata": {
    "scrolled": false
   },
   "outputs": [],
   "source": [
    "# Accessing the sequence records in all of Amanda's Dataset\n",
    "\n",
    "sequence_records = list()\n",
    "\n",
    "for seq_record in SeqIO.parse(f\"out_s0/2023.03.07_09.24.27_sample_0/reads/read1.fq\", \"fastq\"):\n",
    "    #print(seq_record.id)\n",
    "    #print(repr(seq_record.seq))\n",
    "    #print(len(seq_record))\n",
    "\n",
    "    sequence_records.append(seq_record)\n",
    "    \n"
   ]
  },
  {
   "cell_type": "code",
   "execution_count": 19,
   "id": "505a3cbc",
   "metadata": {},
   "outputs": [
    {
     "name": "stdout",
     "output_type": "stream",
     "text": [
      "S0R0/1\n",
      "Seq('CAGTTCCTGCTGATTTACATAAATTGTAAGCTCCATCTCGCTGGGCACATAAAC...TAG')\n",
      "150\n"
     ]
    }
   ],
   "source": [
    "print(sequence_records[0].id)\n",
    "print(repr(sequence_records[0].seq))\n",
    "print(len(sequence_records[0]))"
   ]
  },
  {
   "cell_type": "code",
   "execution_count": 15,
   "id": "e179ceb2",
   "metadata": {},
   "outputs": [
    {
     "data": {
      "text/html": [
       "<div>\n",
       "<style scoped>\n",
       "    .dataframe tbody tr th:only-of-type {\n",
       "        vertical-align: middle;\n",
       "    }\n",
       "\n",
       "    .dataframe tbody tr th {\n",
       "        vertical-align: top;\n",
       "    }\n",
       "\n",
       "    .dataframe thead th {\n",
       "        text-align: right;\n",
       "    }\n",
       "</style>\n",
       "<table border=\"1\" class=\"dataframe\">\n",
       "  <thead>\n",
       "    <tr style=\"text-align: right;\">\n",
       "      <th></th>\n",
       "      <th>sequence</th>\n",
       "      <th>label</th>\n",
       "    </tr>\n",
       "  </thead>\n",
       "  <tbody>\n",
       "    <tr>\n",
       "      <th>0</th>\n",
       "      <td>CACAGC ACAGCC CAGCCA AGCCAG GCCAGC CCAGCC CAGC...</td>\n",
       "      <td>0</td>\n",
       "    </tr>\n",
       "    <tr>\n",
       "      <th>1</th>\n",
       "      <td>CTAATC TAATCT AATCTA ATCTAG TCTAGT CTAGTA TAGT...</td>\n",
       "      <td>1</td>\n",
       "    </tr>\n",
       "    <tr>\n",
       "      <th>2</th>\n",
       "      <td>GGAAGA GAAGAG AAGAGG AGAGGG GAGGGA AGGGAA GGGA...</td>\n",
       "      <td>1</td>\n",
       "    </tr>\n",
       "    <tr>\n",
       "      <th>3</th>\n",
       "      <td>CGAAAG GAAAGC AAAGCA AAGCAA AGCAAT GCAATC CAAT...</td>\n",
       "      <td>1</td>\n",
       "    </tr>\n",
       "    <tr>\n",
       "      <th>4</th>\n",
       "      <td>TGACTC GACTCC ACTCCC CTCCCA TCCCAA CCCAAA CCAA...</td>\n",
       "      <td>1</td>\n",
       "    </tr>\n",
       "    <tr>\n",
       "      <th>...</th>\n",
       "      <td>...</td>\n",
       "      <td>...</td>\n",
       "    </tr>\n",
       "    <tr>\n",
       "      <th>32361</th>\n",
       "      <td>AGGCTG GGCTGA GCTGAG CTGAGG TGAGGC GAGGCA AGGC...</td>\n",
       "      <td>0</td>\n",
       "    </tr>\n",
       "    <tr>\n",
       "      <th>32362</th>\n",
       "      <td>ACTGGG CTGGGG TGGGGA GGGGAA GGGAAC GGAACG GAAC...</td>\n",
       "      <td>1</td>\n",
       "    </tr>\n",
       "    <tr>\n",
       "      <th>32363</th>\n",
       "      <td>ACCCTG CCCTGA CCTGAA CTGAAG TGAAGA GAAGAA AAGA...</td>\n",
       "      <td>1</td>\n",
       "    </tr>\n",
       "    <tr>\n",
       "      <th>32364</th>\n",
       "      <td>TTGGCC TGGCCT GGCCTG GCCTGA CCTGAC CTGACC TGAC...</td>\n",
       "      <td>1</td>\n",
       "    </tr>\n",
       "    <tr>\n",
       "      <th>32365</th>\n",
       "      <td>GTGATG TGATGG GATGGT ATGGTG TGGTGT GGTGTT GTGT...</td>\n",
       "      <td>0</td>\n",
       "    </tr>\n",
       "  </tbody>\n",
       "</table>\n",
       "<p>32366 rows × 2 columns</p>\n",
       "</div>"
      ],
      "text/plain": [
       "                                                sequence  label\n",
       "0      CACAGC ACAGCC CAGCCA AGCCAG GCCAGC CCAGCC CAGC...      0\n",
       "1      CTAATC TAATCT AATCTA ATCTAG TCTAGT CTAGTA TAGT...      1\n",
       "2      GGAAGA GAAGAG AAGAGG AGAGGG GAGGGA AGGGAA GGGA...      1\n",
       "3      CGAAAG GAAAGC AAAGCA AAGCAA AGCAAT GCAATC CAAT...      1\n",
       "4      TGACTC GACTCC ACTCCC CTCCCA TCCCAA CCCAAA CCAA...      1\n",
       "...                                                  ...    ...\n",
       "32361  AGGCTG GGCTGA GCTGAG CTGAGG TGAGGC GAGGCA AGGC...      0\n",
       "32362  ACTGGG CTGGGG TGGGGA GGGGAA GGGAAC GGAACG GAAC...      1\n",
       "32363  ACCCTG CCCTGA CCTGAA CTGAAG TGAAGA GAAGAA AAGA...      1\n",
       "32364  TTGGCC TGGCCT GGCCTG GCCTGA CCTGAC CTGACC TGAC...      1\n",
       "32365  GTGATG TGATGG GATGGT ATGGTG TGGTGT GGTGTT GTGT...      0\n",
       "\n",
       "[32366 rows x 2 columns]"
      ]
     },
     "execution_count": 15,
     "metadata": {},
     "output_type": "execute_result"
    }
   ],
   "source": [
    "# how the fine-tuning data should be formatted\n",
    "pd.read_csv('sampletrain.tsv', sep='\\t')"
   ]
  },
  {
   "cell_type": "code",
   "execution_count": 25,
   "id": "74ea6277",
   "metadata": {},
   "outputs": [],
   "source": [
    "mapping = pd.read_csv('out_s0/2023.03.07_09.24.27_sample_0/reads/reads_mapping.tsv', sep='\\t')"
   ]
  },
  {
   "cell_type": "code",
   "execution_count": 64,
   "id": "b1b35adb",
   "metadata": {},
   "outputs": [
    {
     "name": "stdout",
     "output_type": "stream",
     "text": [
      "S0R0/1\n",
      "S0R0/1\n"
     ]
    },
    {
     "data": {
      "text/plain": [
       "'genome7'"
      ]
     },
     "execution_count": 64,
     "metadata": {},
     "output_type": "execute_result"
    }
   ],
   "source": [
    "#print(mapping['#anonymous_read_id'][0])\n",
    "#print(str(sequence_records[0].id))\n",
    "#mapping.loc[mapping['#anonymous_read_id'] == str(sequence_records[1].id)].iloc[0]['genome_id']"
   ]
  },
  {
   "cell_type": "code",
   "execution_count": 104,
   "id": "f2873693",
   "metadata": {},
   "outputs": [],
   "source": [
    "def build_kmers(sequence, ksize):\n",
    "    kmers = []\n",
    "    n_kmers = len(sequence) - ksize + 1\n",
    "\n",
    "    for i in range(n_kmers):\n",
    "        kmer = sequence[i:i + ksize]\n",
    "        kmers.append(kmer)\n",
    "    return kmers"
   ]
  },
  {
   "cell_type": "code",
   "execution_count": 107,
   "id": "1a6bda34",
   "metadata": {},
   "outputs": [],
   "source": [
    "def kmer_array_to_long_string(sequence):\n",
    "    long_string = \"\"\n",
    "    for segment in sequence:\n",
    "        long_string += segment + \" \"\n",
    "        \n",
    "    long_string = long_string.rstrip()\n",
    "    return long_string"
   ]
  },
  {
   "cell_type": "code",
   "execution_count": 115,
   "id": "359fb1ff",
   "metadata": {},
   "outputs": [
    {
     "name": "stderr",
     "output_type": "stream",
     "text": [
      "100%|████████████████████████████████████████████████████████████████████████| 333330/333330 [3:51:16<00:00, 24.02it/s]\n"
     ]
    }
   ],
   "source": [
    "datarows = []\n",
    "\n",
    "# create sequences and labels \n",
    "# is slow because it needs to search mapping; speed up?\n",
    "\n",
    "for seq_record in tqdm(sequence_records):\n",
    "    \n",
    "    datapoint = (kmer_array_to_long_string(build_kmers(str(seq_record.seq), 6)),\n",
    "                mapping.loc[mapping['#anonymous_read_id'] == str(seq_record.id)].iloc[0]['genome_id'])\n",
    "    \n",
    "    datarows.append(datapoint)\n",
    "    \n",
    "    \n",
    "    \n",
    "    \n",
    "    "
   ]
  },
  {
   "cell_type": "code",
   "execution_count": 116,
   "id": "32637339",
   "metadata": {},
   "outputs": [
    {
     "data": {
      "text/plain": [
       "('CAGTTC AGTTCC GTTCCT TTCCTG TCCTGC CCTGCT CTGCTG TGCTGA GCTGAT CTGATT TGATTT GATTTA ATTTAC TTTACA TTACAT TACATA ACATAA CATAAA ATAAAT TAAATT AAATTG AATTGT ATTGTA TTGTAA TGTAAG GTAAGC TAAGCT AAGCTC AGCTCC GCTCCA CTCCAT TCCATC CCATCT CATCTC ATCTCG TCTCGC CTCGCT TCGCTG CGCTGG GCTGGG CTGGGC TGGGCA GGGCAC GGCACA GCACAT CACATA ACATAA CATAAA ATAAAC TAAACT AAACTG AACTGA ACTGAG CTGAGG TGAGGT GAGGTC AGGTCC GGTCCT GTCCTG TCCTGG CCTGGA CTGGAC TGGACC GGACCA GACCAT ACCATC CCATCC CATCCC ATCCCT TCCCTC CCCTCG CCTCGT CTCGTC TCGTCC CGTCCG GTCCGA TCCGAA CCGAAA CGAAAA GAAAAG AAAAGC AAAGCG AAGCGA AGCGAT GCGATA CGATAA GATAAC ATAACA TAACAA AACAAA ACAAAC CAAACT AAACTA AACTAT ACTATG CTATGT TATGTT ATGTTT TGTTTG GTTTGC TTTGCA TTGCAG TGCAGC GCAGCG CAGCGG AGCGGC GCGGCA CGGCAC GGCACC GCACCT CACCTT ACCTTT CCTTTA CTTTAA TTTAAT TTAATG TAATGT AATGTC ATGTCT TGTCTG GTCTGG TCTGGT CTGGTA TGGTAC GGTACT GTACTC TACTCC ACTCCA CTCCAC TCCACA CCACAT CACATT ACATTT CATTTT ATTTTT TTTTTG TTTTGC TTTGCA TTGCAT TGCATG GCATGT CATGTT ATGTTT TGTTTA GTTTAG',\n",
       " 'genome7')"
      ]
     },
     "execution_count": 116,
     "metadata": {},
     "output_type": "execute_result"
    }
   ],
   "source": [
    "datarows[0]"
   ]
  },
  {
   "cell_type": "code",
   "execution_count": 117,
   "id": "5fb3e0a0",
   "metadata": {},
   "outputs": [],
   "source": [
    "dataset = pd.DataFrame(datarows, columns=['sequence', 'label'])"
   ]
  },
  {
   "cell_type": "code",
   "execution_count": 118,
   "id": "79b57995",
   "metadata": {},
   "outputs": [
    {
     "data": {
      "text/html": [
       "<div>\n",
       "<style scoped>\n",
       "    .dataframe tbody tr th:only-of-type {\n",
       "        vertical-align: middle;\n",
       "    }\n",
       "\n",
       "    .dataframe tbody tr th {\n",
       "        vertical-align: top;\n",
       "    }\n",
       "\n",
       "    .dataframe thead th {\n",
       "        text-align: right;\n",
       "    }\n",
       "</style>\n",
       "<table border=\"1\" class=\"dataframe\">\n",
       "  <thead>\n",
       "    <tr style=\"text-align: right;\">\n",
       "      <th></th>\n",
       "      <th>sequence</th>\n",
       "      <th>label</th>\n",
       "    </tr>\n",
       "  </thead>\n",
       "  <tbody>\n",
       "    <tr>\n",
       "      <th>0</th>\n",
       "      <td>CAGTTC AGTTCC GTTCCT TTCCTG TCCTGC CCTGCT CTGC...</td>\n",
       "      <td>genome7</td>\n",
       "    </tr>\n",
       "    <tr>\n",
       "      <th>1</th>\n",
       "      <td>GTGGTT TGGTTT GGTTTG GTTTGT TTTGTA TTGTAT TGTA...</td>\n",
       "      <td>genome7</td>\n",
       "    </tr>\n",
       "    <tr>\n",
       "      <th>2</th>\n",
       "      <td>CGGTAC GGTACC GTACCT TACCTG ACCTGA CCTGAC CTGA...</td>\n",
       "      <td>genome7</td>\n",
       "    </tr>\n",
       "    <tr>\n",
       "      <th>3</th>\n",
       "      <td>AATGCA ATGCAG TGCAGT GCAGTT CAGTTA AGTTAA GTTA...</td>\n",
       "      <td>genome7</td>\n",
       "    </tr>\n",
       "    <tr>\n",
       "      <th>4</th>\n",
       "      <td>TGTGGC GTGGCC TGGCCA GGCCAT GCCATC CCATCC CATC...</td>\n",
       "      <td>genome7</td>\n",
       "    </tr>\n",
       "    <tr>\n",
       "      <th>5</th>\n",
       "      <td>TCGCCA CGCCAA GCCAAT CCAATC CAATCG AATCGC ATCG...</td>\n",
       "      <td>genome7</td>\n",
       "    </tr>\n",
       "    <tr>\n",
       "      <th>6</th>\n",
       "      <td>CAGCCC AGCCCG GCCCGA CCCGAT CCGATG CGATGT GATG...</td>\n",
       "      <td>genome22</td>\n",
       "    </tr>\n",
       "    <tr>\n",
       "      <th>7</th>\n",
       "      <td>TTTTCC TTTCCA TTCCAG TCCAGC CCAGCA CAGCAC AGCA...</td>\n",
       "      <td>genome7</td>\n",
       "    </tr>\n",
       "    <tr>\n",
       "      <th>8</th>\n",
       "      <td>AACTGG ACTGGA CTGGAA TGGAAC GGAACA GAACAA AACA...</td>\n",
       "      <td>genome7</td>\n",
       "    </tr>\n",
       "    <tr>\n",
       "      <th>9</th>\n",
       "      <td>TATAAA ATAAAA TAAAAA AAAAAC AAAACA AAACAC AACA...</td>\n",
       "      <td>genome7</td>\n",
       "    </tr>\n",
       "  </tbody>\n",
       "</table>\n",
       "</div>"
      ],
      "text/plain": [
       "                                            sequence     label\n",
       "0  CAGTTC AGTTCC GTTCCT TTCCTG TCCTGC CCTGCT CTGC...   genome7\n",
       "1  GTGGTT TGGTTT GGTTTG GTTTGT TTTGTA TTGTAT TGTA...   genome7\n",
       "2  CGGTAC GGTACC GTACCT TACCTG ACCTGA CCTGAC CTGA...   genome7\n",
       "3  AATGCA ATGCAG TGCAGT GCAGTT CAGTTA AGTTAA GTTA...   genome7\n",
       "4  TGTGGC GTGGCC TGGCCA GGCCAT GCCATC CCATCC CATC...   genome7\n",
       "5  TCGCCA CGCCAA GCCAAT CCAATC CAATCG AATCGC ATCG...   genome7\n",
       "6  CAGCCC AGCCCG GCCCGA CCCGAT CCGATG CGATGT GATG...  genome22\n",
       "7  TTTTCC TTTCCA TTCCAG TCCAGC CCAGCA CAGCAC AGCA...   genome7\n",
       "8  AACTGG ACTGGA CTGGAA TGGAAC GGAACA GAACAA AACA...   genome7\n",
       "9  TATAAA ATAAAA TAAAAA AAAAAC AAAACA AAACAC AACA...   genome7"
      ]
     },
     "execution_count": 118,
     "metadata": {},
     "output_type": "execute_result"
    }
   ],
   "source": [
    "dataset.head(10)"
   ]
  },
  {
   "cell_type": "code",
   "execution_count": 119,
   "id": "b1e4fa9e",
   "metadata": {},
   "outputs": [
    {
     "data": {
      "text/plain": [
       "333330"
      ]
     },
     "execution_count": 119,
     "metadata": {},
     "output_type": "execute_result"
    }
   ],
   "source": [
    "len(dataset)"
   ]
  },
  {
   "cell_type": "code",
   "execution_count": 1,
   "id": "e8b56a01",
   "metadata": {},
   "outputs": [],
   "source": [
    "from Bio import SeqIO\n",
    "from tqdm import tqdm\n",
    "import os, random\n",
    "import pandas as pd\n",
    "from sklearn.model_selection import train_test_split"
   ]
  },
  {
   "cell_type": "code",
   "execution_count": 2,
   "id": "9c9e8a90",
   "metadata": {},
   "outputs": [],
   "source": [
    "# splitting dataset to train and test split\n",
    "dataset = pd.read_csv(\"finetuningdataset2.tsv\", sep='\\t')"
   ]
  },
  {
   "cell_type": "code",
   "execution_count": 3,
   "id": "b5b22f38",
   "metadata": {},
   "outputs": [
    {
     "data": {
      "text/html": [
       "<div>\n",
       "<style scoped>\n",
       "    .dataframe tbody tr th:only-of-type {\n",
       "        vertical-align: middle;\n",
       "    }\n",
       "\n",
       "    .dataframe tbody tr th {\n",
       "        vertical-align: top;\n",
       "    }\n",
       "\n",
       "    .dataframe thead th {\n",
       "        text-align: right;\n",
       "    }\n",
       "</style>\n",
       "<table border=\"1\" class=\"dataframe\">\n",
       "  <thead>\n",
       "    <tr style=\"text-align: right;\">\n",
       "      <th></th>\n",
       "      <th>sequence</th>\n",
       "      <th>label</th>\n",
       "    </tr>\n",
       "  </thead>\n",
       "  <tbody>\n",
       "    <tr>\n",
       "      <th>0</th>\n",
       "      <td>CAGTTC AGTTCC GTTCCT TTCCTG TCCTGC CCTGCT CTGC...</td>\n",
       "      <td>genome7</td>\n",
       "    </tr>\n",
       "    <tr>\n",
       "      <th>1</th>\n",
       "      <td>GTGGTT TGGTTT GGTTTG GTTTGT TTTGTA TTGTAT TGTA...</td>\n",
       "      <td>genome7</td>\n",
       "    </tr>\n",
       "    <tr>\n",
       "      <th>2</th>\n",
       "      <td>CGGTAC GGTACC GTACCT TACCTG ACCTGA CCTGAC CTGA...</td>\n",
       "      <td>genome7</td>\n",
       "    </tr>\n",
       "    <tr>\n",
       "      <th>3</th>\n",
       "      <td>AATGCA ATGCAG TGCAGT GCAGTT CAGTTA AGTTAA GTTA...</td>\n",
       "      <td>genome7</td>\n",
       "    </tr>\n",
       "    <tr>\n",
       "      <th>4</th>\n",
       "      <td>TGTGGC GTGGCC TGGCCA GGCCAT GCCATC CCATCC CATC...</td>\n",
       "      <td>genome7</td>\n",
       "    </tr>\n",
       "  </tbody>\n",
       "</table>\n",
       "</div>"
      ],
      "text/plain": [
       "                                            sequence    label\n",
       "0  CAGTTC AGTTCC GTTCCT TTCCTG TCCTGC CCTGCT CTGC...  genome7\n",
       "1  GTGGTT TGGTTT GGTTTG GTTTGT TTTGTA TTGTAT TGTA...  genome7\n",
       "2  CGGTAC GGTACC GTACCT TACCTG ACCTGA CCTGAC CTGA...  genome7\n",
       "3  AATGCA ATGCAG TGCAGT GCAGTT CAGTTA AGTTAA GTTA...  genome7\n",
       "4  TGTGGC GTGGCC TGGCCA GGCCAT GCCATC CCATCC CATC...  genome7"
      ]
     },
     "execution_count": 3,
     "metadata": {},
     "output_type": "execute_result"
    }
   ],
   "source": [
    "dataset.head()"
   ]
  },
  {
   "cell_type": "code",
   "execution_count": 12,
   "id": "d21ed686",
   "metadata": {},
   "outputs": [],
   "source": [
    "'''\n",
    "    0.6-0.2-0.2 train-valid-test split\n",
    "\n",
    "'''\n",
    "\n",
    "X_finetune, X_test, y_finetune, y_test = train_test_split(dataset['sequence'], dataset['label'], test_size = 0.2, random_state = 10)\n",
    "X_train, X_valid, y_train, y_valid = train_test_split(X_finetune, y_finetune, test_size = 0.25, random_state = 10)"
   ]
  },
  {
   "cell_type": "code",
   "execution_count": 13,
   "id": "3beda97f",
   "metadata": {},
   "outputs": [
    {
     "data": {
      "text/plain": [
       "199998"
      ]
     },
     "execution_count": 13,
     "metadata": {},
     "output_type": "execute_result"
    }
   ],
   "source": [
    "len(X_train)"
   ]
  },
  {
   "cell_type": "code",
   "execution_count": 14,
   "id": "2c0f630b",
   "metadata": {},
   "outputs": [
    {
     "data": {
      "text/plain": [
       "66666"
      ]
     },
     "execution_count": 14,
     "metadata": {},
     "output_type": "execute_result"
    }
   ],
   "source": [
    "len(X_test)"
   ]
  },
  {
   "cell_type": "code",
   "execution_count": 15,
   "id": "f8137391",
   "metadata": {},
   "outputs": [
    {
     "data": {
      "text/plain": [
       "66666"
      ]
     },
     "execution_count": 15,
     "metadata": {},
     "output_type": "execute_result"
    }
   ],
   "source": [
    "len(X_valid)"
   ]
  },
  {
   "cell_type": "code",
   "execution_count": 16,
   "id": "4d26a114",
   "metadata": {},
   "outputs": [],
   "source": [
    "train_dataset = pd.DataFrame(list(zip(X_train, y_train)), columns=['sequence', 'label'])\n",
    "valid_dataset = pd.DataFrame(list(zip(X_valid, y_valid)), columns=['sequence', 'label'])\n",
    "test_dataset = pd.DataFrame(list(zip(X_test, y_test)), columns=['sequence', 'label'])"
   ]
  },
  {
   "cell_type": "code",
   "execution_count": 19,
   "id": "ed86d72a",
   "metadata": {},
   "outputs": [
    {
     "data": {
      "text/html": [
       "<div>\n",
       "<style scoped>\n",
       "    .dataframe tbody tr th:only-of-type {\n",
       "        vertical-align: middle;\n",
       "    }\n",
       "\n",
       "    .dataframe tbody tr th {\n",
       "        vertical-align: top;\n",
       "    }\n",
       "\n",
       "    .dataframe thead th {\n",
       "        text-align: right;\n",
       "    }\n",
       "</style>\n",
       "<table border=\"1\" class=\"dataframe\">\n",
       "  <thead>\n",
       "    <tr style=\"text-align: right;\">\n",
       "      <th></th>\n",
       "      <th>sequence</th>\n",
       "      <th>label</th>\n",
       "    </tr>\n",
       "  </thead>\n",
       "  <tbody>\n",
       "    <tr>\n",
       "      <th>0</th>\n",
       "      <td>CTCCGG TCCGGC CCGGCC CGGCCG GGCCGC GCCGCC CCGC...</td>\n",
       "      <td>genome17</td>\n",
       "    </tr>\n",
       "    <tr>\n",
       "      <th>1</th>\n",
       "      <td>GGTCAA GTCAAC TCAACG CAACGG AACGGT ACGGTG CGGT...</td>\n",
       "      <td>genome14</td>\n",
       "    </tr>\n",
       "    <tr>\n",
       "      <th>2</th>\n",
       "      <td>CGCCTA GCCTAA CCTAAC CTAACG TAACGC AACGCA ACGC...</td>\n",
       "      <td>genome7</td>\n",
       "    </tr>\n",
       "    <tr>\n",
       "      <th>3</th>\n",
       "      <td>ATGTGC TGTGCA GTGCAT TGCATC GCATCT CATCTG ATCT...</td>\n",
       "      <td>genome9</td>\n",
       "    </tr>\n",
       "    <tr>\n",
       "      <th>4</th>\n",
       "      <td>GCTTAA CTTAAA TTAAAG TAAAGA AAAGAA AAGAAT AGAA...</td>\n",
       "      <td>genome7</td>\n",
       "    </tr>\n",
       "    <tr>\n",
       "      <th>5</th>\n",
       "      <td>GGTCAT GTCATG TCATGG CATGGT ATGGTC TGGTCA GGTC...</td>\n",
       "      <td>genome7</td>\n",
       "    </tr>\n",
       "    <tr>\n",
       "      <th>6</th>\n",
       "      <td>TGGTTC GGTTCT GTTCTT TTCTTG TCTTGC CTTGCA TTGC...</td>\n",
       "      <td>genome7</td>\n",
       "    </tr>\n",
       "    <tr>\n",
       "      <th>7</th>\n",
       "      <td>GCAATA CAATAG AATAGC ATAGCG TAGCGC AGCGCC GCGC...</td>\n",
       "      <td>genome7</td>\n",
       "    </tr>\n",
       "    <tr>\n",
       "      <th>8</th>\n",
       "      <td>GAATCG AATCGG ATCGGT TCGGTT CGGTTC GGTTCG GTTC...</td>\n",
       "      <td>genome7</td>\n",
       "    </tr>\n",
       "    <tr>\n",
       "      <th>9</th>\n",
       "      <td>AGTTTA GTTTAC TTTACT TTACTT TACTTA ACTTAA CTTA...</td>\n",
       "      <td>genome7</td>\n",
       "    </tr>\n",
       "  </tbody>\n",
       "</table>\n",
       "</div>"
      ],
      "text/plain": [
       "                                            sequence     label\n",
       "0  CTCCGG TCCGGC CCGGCC CGGCCG GGCCGC GCCGCC CCGC...  genome17\n",
       "1  GGTCAA GTCAAC TCAACG CAACGG AACGGT ACGGTG CGGT...  genome14\n",
       "2  CGCCTA GCCTAA CCTAAC CTAACG TAACGC AACGCA ACGC...   genome7\n",
       "3  ATGTGC TGTGCA GTGCAT TGCATC GCATCT CATCTG ATCT...   genome9\n",
       "4  GCTTAA CTTAAA TTAAAG TAAAGA AAAGAA AAGAAT AGAA...   genome7\n",
       "5  GGTCAT GTCATG TCATGG CATGGT ATGGTC TGGTCA GGTC...   genome7\n",
       "6  TGGTTC GGTTCT GTTCTT TTCTTG TCTTGC CTTGCA TTGC...   genome7\n",
       "7  GCAATA CAATAG AATAGC ATAGCG TAGCGC AGCGCC GCGC...   genome7\n",
       "8  GAATCG AATCGG ATCGGT TCGGTT CGGTTC GGTTCG GTTC...   genome7\n",
       "9  AGTTTA GTTTAC TTTACT TTACTT TACTTA ACTTAA CTTA...   genome7"
      ]
     },
     "execution_count": 19,
     "metadata": {},
     "output_type": "execute_result"
    }
   ],
   "source": [
    "test_dataset.head(10)"
   ]
  },
  {
   "cell_type": "code",
   "execution_count": 20,
   "id": "47409906",
   "metadata": {},
   "outputs": [],
   "source": [
    "train_dataset.to_csv(\"finetuning-traindataset.tsv\", sep='\\t', index=False)\n",
    "valid_dataset.to_csv(\"finetuning-validdataset.tsv\", sep='\\t', index=False)\n",
    "test_dataset.to_csv(\"finetuning-testdataset.tsv\", sep='\\t', index=False)"
   ]
  },
  {
   "cell_type": "code",
   "execution_count": 27,
   "id": "f08a9bdc",
   "metadata": {},
   "outputs": [
    {
     "data": {
      "text/plain": [
       "array(['genome7', 'genome14', 'genome17', 'genome9', 'genome10',\n",
       "       'genome13', 'genome25', 'genome11', 'genome22', 'genome18',\n",
       "       'genome21', 'genome2', 'genome3', 'genome26', 'genome19',\n",
       "       'genome24', 'genome5', 'genome12', 'genome16', 'genome20',\n",
       "       'genome15', 'genome4', 'genome8', 'genome6', 'genome1', 'genome23'],\n",
       "      dtype=object)"
      ]
     },
     "execution_count": 27,
     "metadata": {},
     "output_type": "execute_result"
    }
   ],
   "source": [
    "train_dataset['label'].unique()"
   ]
  },
  {
   "cell_type": "code",
   "execution_count": 28,
   "id": "504ed882",
   "metadata": {},
   "outputs": [
    {
     "data": {
      "text/plain": [
       "266664"
      ]
     },
     "execution_count": 28,
     "metadata": {},
     "output_type": "execute_result"
    }
   ],
   "source": [
    "len(train_dataset)"
   ]
  },
  {
   "cell_type": "code",
   "execution_count": 29,
   "id": "604d7ebc",
   "metadata": {},
   "outputs": [
    {
     "data": {
      "text/plain": [
       "66666"
      ]
     },
     "execution_count": 29,
     "metadata": {},
     "output_type": "execute_result"
    }
   ],
   "source": [
    "len(test_dataset)"
   ]
  },
  {
   "cell_type": "code",
   "execution_count": null,
   "id": "77e49386",
   "metadata": {},
   "outputs": [],
   "source": []
  }
 ],
 "metadata": {
  "kernelspec": {
   "display_name": "Python 3 (ipykernel)",
   "language": "python",
   "name": "python3"
  },
  "language_info": {
   "codemirror_mode": {
    "name": "ipython",
    "version": 3
   },
   "file_extension": ".py",
   "mimetype": "text/x-python",
   "name": "python",
   "nbconvert_exporter": "python",
   "pygments_lexer": "ipython3",
   "version": "3.10.9"
  }
 },
 "nbformat": 4,
 "nbformat_minor": 5
}
